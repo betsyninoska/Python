{
  "nbformat": 4,
  "nbformat_minor": 0,
  "metadata": {
    "colab": {
      "provenance": [],
      "authorship_tag": "ABX9TyPYtzabu7mX2c+TJG2SuZ9p",
      "include_colab_link": true
    },
    "kernelspec": {
      "name": "python3",
      "display_name": "Python 3"
    },
    "language_info": {
      "name": "python"
    }
  },
  "cells": [
    {
      "cell_type": "markdown",
      "metadata": {
        "id": "view-in-github",
        "colab_type": "text"
      },
      "source": [
        "<a href=\"https://colab.research.google.com/github/betsyninoska/Python/blob/master/fibonacci.ipynb\" target=\"_parent\"><img src=\"https://colab.research.google.com/assets/colab-badge.svg\" alt=\"Open In Colab\"/></a>"
      ]
    },
    {
      "cell_type": "markdown",
      "source": [
        "## La sucesión de Fibonacci\n",
        "\n",
        "La sucesión de **Fibonacci** comienza con los números 0 y 1, y a partir de estos, cada término es la suma de los dos anteriores. El siguiente código Python muestra los números de la serie (hasta 100)\n",
        "\n"
      ],
      "metadata": {
        "id": "RtCog_f5T6dF"
      }
    },
    {
      "cell_type": "code",
      "execution_count": 1,
      "metadata": {
        "colab": {
          "base_uri": "https://localhost:8080/"
        },
        "id": "zP-5db9GT4pR",
        "outputId": "d938a3b8-fa98-4467-b558-c17540721a5a"
      },
      "outputs": [
        {
          "output_type": "stream",
          "name": "stdout",
          "text": [
            "0 1 1 2 3 5 8 13 21 34 55 89 \n"
          ]
        }
      ],
      "source": [
        "def fib(n):\n",
        "    a, b = 0,1\n",
        "    while a < n:\n",
        "        print(a, end=' ')\n",
        "        a, b = b, a+b\n",
        "    print()\n",
        "    \n",
        "fib(100)"
      ]
    },
    {
      "cell_type": "markdown",
      "source": [
        "Serie fibonacci hasta el valor introducido"
      ],
      "metadata": {
        "id": "vlrGcqAVVBAo"
      }
    },
    {
      "cell_type": "code",
      "source": [
        "def fib(n):\n",
        "    a, b = 0,1\n",
        "    while a < n:\n",
        "        print(a, end=' ')\n",
        "        a, b = b, a+b\n",
        "    print()\n",
        "\n",
        "n1= float(input('ingrese valor a calcular para serie fibonacci:'));\n",
        "print(\"Fibonacci series:\", end = ' ')\n",
        "fib(n1)\n",
        "\n"
      ],
      "metadata": {
        "colab": {
          "base_uri": "https://localhost:8080/"
        },
        "id": "QxN63HqJUNM9",
        "outputId": "09f4ef02-39d5-4260-a8f9-a09a6f707e3c"
      },
      "execution_count": 3,
      "outputs": [
        {
          "output_type": "stream",
          "name": "stdout",
          "text": [
            "ingrese valor a calcular para serie fibonacci:10\n",
            "Fibonacci series: 0 1 1 2 3 5 8 \n"
          ]
        }
      ]
    },
    {
      "cell_type": "code",
      "source": [],
      "metadata": {
        "id": "QF8O-6jsUxzg"
      },
      "execution_count": null,
      "outputs": []
    }
  ]
}