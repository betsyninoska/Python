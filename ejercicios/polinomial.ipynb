#x = 10
#x += 12
#y = int(x/4)
#x = x + y
#print(x)
#print(y)
#a = "This is A TEST"
#print (a.capitalize())
a=4
def polinomial(a,b,c,x):
    return a*x**2 + b*x + c
b = a
b *= a
c = 1
result = polinomial(a,b,c,0)
print('resultado= '+ str(result))
print('a=' + str(a) + ' b=' + str(b) + ' c=' +str(c))

a +=3
a =0
print('********')
print('resultado= '+ str(result))
print('a=' + str(a) + ' b=' + str(b) + ' c=' +str(c))
