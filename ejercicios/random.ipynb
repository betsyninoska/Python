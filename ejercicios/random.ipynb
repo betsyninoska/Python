num={'one':1,'two':3}
print(num)
num['two'] = 2
print(num)



myString='Item'
for etl in myString:
    print(etl)


#while**/
numberTrees = 0
while numberTrees < 10:
    numberTrees += 1
    print("I planted", numberTrees, "trees")

print("I have a nice forest!")


#Con rango
for x in range(5):
  print("OpenClassrooms is really great!")

print("CON WHILE")
#Con While
contador = 0
while contador < 5:
    contador += 1
    print("OpenClassrooms is really great!")


print("ejercicios")
if 'bar' in {'foo': 1, 'bar': 2, 'baz': 3}:
   print(1)
   print(2)
   if 'a' in 'qux':
      print(3)
print(4)




print("jercicio que pasa con el siguiente codigo")
d = {'a': 0, 'b': 1, 'c': 0}

if d['a'] > 0:
   print('yeah!')
elif d['b'] > 0:
   print('yeah!')
elif d['c'] > 0:
   print('ok')
elif d['d'] > 0:
   print('ok')
else:
   print('not ok')


print("The while loop is primarily used when:")
print("you want to repeat a block of code several times.")


print("What does the following code print?")
a = ['foo', 'bar', 'baz', 'qux', 'corge']
while a:
   if len(a) < 3:
      break
   print(a.pop())
print('Done.')


print("How can a loop be interrupted prematurely?")
print("?")

print("EJEMPLO of the uniform function")
import random
for i in range(3):
    print(random.uniform(5,10))
print("------------------")
print("example of the randing function")
for i in range(3):
    print(random.randint(5,10))


print("------------------")
print("example of the gauss function")
for i in range(10):
    print(random.gauss(0,1))

print("------------------")
print("liste range choice")
liste=['one','two','three','four','five']
for i in range(3):
    print(random.choice(liste))

#print("------------------")
#print("liste range choice with replacement")
#liste=['one','two','three','four','five']
#print(random.choice(liste, 3))
#print(random.choice(liste, 3))


print("------------------pregunta1")
import random

n = random.uniform(10,19)
print(n)


print("Pregunta2: What should the ... be replaced with, so that the following program prints one of the names in the list at random?")

import random

basket = ["Apple", "Pear", "Banana", "Pineapple", "Orange"]
result1 = basket[random.randint(0, 4)]
result2 = random.choice(basket)
#result = random.random(basket)
#result = random.shuffle(basket)
print(result1,result2)



#print("------------------pregunta3")
#print("juego A")
#cara=0
#cruz=0
#probalidad=0
#apuesta=1
#for i in range(1000):
#    tirada=random.choice(['cara','cruz'])
#    if tirada=="cara":
#        cara+=1
#    elif tirada=="cruz":
#        cruz+=1
#print('han salido caras:' ,cara , 'cruces: ' ,cruz)

print("------------------pregunta6")

population=range(1000)
N=10
#ticket=[]
#for i in range(N):
#    ticket.append(random.randint(0,1000))
print(random.sample(population,N))


print("We try to generate a random float with the random function. What is the best way to import the right module and call the right function for this? ")
