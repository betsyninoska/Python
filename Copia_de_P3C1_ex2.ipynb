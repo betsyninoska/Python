{
  "cells": [
    {
      "cell_type": "markdown",
      "metadata": {
        "id": "view-in-github",
        "colab_type": "text"
      },
      "source": [
        "<a href=\"https://colab.research.google.com/github/betsyninoska/Python/blob/master/Copia_de_P3C1_ex2.ipynb\" target=\"_parent\"><img src=\"https://colab.research.google.com/assets/colab-badge.svg\" alt=\"Open In Colab\"/></a>"
      ]
    },
    {
      "cell_type": "markdown",
      "metadata": {
        "id": "TpUSWxJ7Bnxq"
      },
      "source": [
        "![openclassrooms](https://s3.eu-west-1.amazonaws.com/course.oc-static.com/courses/6204541/1+HnqdJ-5ofxiPP9HIxdNdpw.jpeg)\n",
        "\n",
        "# Learn Python Basics for Data Analysis\n",
        "\n",
        "## Create Arrays to Store Your Variables\n",
        "\n",
        "<br><br>\n",
        "\n",
        "**Adding Items to a List**\n",
        "\n",
        "Replace the **??** with the appropriate code to create an empty list:\n"
      ]
    },
    {
      "cell_type": "code",
      "execution_count": null,
      "metadata": {
        "id": "x5JtefkEBnxt"
      },
      "outputs": [],
      "source": [
        "guests = []"
      ]
    },
    {
      "cell_type": "markdown",
      "metadata": {
        "id": "IzNAg4MMBnxu"
      },
      "source": [
        "Add three guests to the list: Joey, Martin, and Mary"
      ]
    },
    {
      "cell_type": "code",
      "execution_count": null,
      "metadata": {
        "id": "GP_ddsKQBnxu"
      },
      "outputs": [],
      "source": [
        "guests.append('Joey')\n",
        "guests.append('Martin') \n",
        "guests.append('Mary') \n"
      ]
    },
    {
      "cell_type": "markdown",
      "metadata": {
        "id": "eIisJcd1Bnxv"
      },
      "source": [
        "Print the size of the list:"
      ]
    },
    {
      "cell_type": "code",
      "execution_count": null,
      "metadata": {
        "id": "XjdRwB1pBnxv",
        "outputId": "5e4dc27c-bb4f-4ec4-9a09-a8a12eb333a4",
        "colab": {
          "base_uri": "https://localhost:8080/"
        }
      },
      "outputs": [
        {
          "output_type": "execute_result",
          "data": {
            "text/plain": [
              "3"
            ]
          },
          "metadata": {},
          "execution_count": 4
        }
      ],
      "source": [
        "len(guests)"
      ]
    },
    {
      "cell_type": "markdown",
      "metadata": {
        "id": "zkTnRS0ZBnxv"
      },
      "source": [
        "Replace Martin with John in the list:"
      ]
    },
    {
      "cell_type": "code",
      "execution_count": null,
      "metadata": {
        "id": "Q_gnebyKBnxw"
      },
      "outputs": [],
      "source": [
        "guests[1]='John'\n"
      ]
    },
    {
      "cell_type": "code",
      "execution_count": null,
      "metadata": {
        "id": "4KBuny1dBsle"
      },
      "outputs": [],
      "source": [
        "guests.insert(1, 'John')\n",
        "guests.remove('Martin')"
      ]
    },
    {
      "cell_type": "markdown",
      "metadata": {
        "id": "jJJAdFUgBnxw"
      },
      "source": [
        "Delete Joey from the list:"
      ]
    },
    {
      "cell_type": "code",
      "execution_count": null,
      "metadata": {
        "id": "294kCaDGBnxx"
      },
      "outputs": [],
      "source": [
        "guests.remove('Joey')"
      ]
    },
    {
      "cell_type": "markdown",
      "metadata": {
        "id": "6gwRXgVWBnxx"
      },
      "source": [
        "Print the contents of the list:"
      ]
    },
    {
      "cell_type": "code",
      "execution_count": null,
      "metadata": {
        "id": "_QJky18LBnxy",
        "outputId": "deb76573-34ed-4e0c-df84-cc0b34059ca3",
        "colab": {
          "base_uri": "https://localhost:8080/"
        }
      },
      "outputs": [
        {
          "output_type": "stream",
          "name": "stdout",
          "text": [
            "John\n",
            "Mary\n",
            "Joey\n",
            "Martin\n",
            "Mary\n"
          ]
        }
      ],
      "source": [
        "for guest in guests:\n",
        "    print(guest)"
      ]
    }
  ],
  "metadata": {
    "colab": {
      "provenance": [],
      "include_colab_link": true
    },
    "kernelspec": {
      "display_name": "Python 3.9.7 ('base')",
      "language": "python",
      "name": "python3"
    },
    "language_info": {
      "codemirror_mode": {
        "name": "ipython",
        "version": 3
      },
      "file_extension": ".py",
      "mimetype": "text/x-python",
      "name": "python",
      "nbconvert_exporter": "python",
      "pygments_lexer": "ipython3",
      "version": "3.9.7"
    },
    "vscode": {
      "interpreter": {
        "hash": "0d5b2adc70bf0954b7415f3bc8543415bd6d361c5e0c2c03226caf4972d8a62d"
      }
    }
  },
  "nbformat": 4,
  "nbformat_minor": 0
}