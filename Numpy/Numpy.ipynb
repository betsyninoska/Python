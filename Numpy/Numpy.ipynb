{
  "nbformat": 4,
  "nbformat_minor": 0,
  "metadata": {
    "colab": {
      "provenance": [],
      "authorship_tag": "ABX9TyORvSQ9DRYZhRv4dC/cH7gB",
      "include_colab_link": true
    },
    "kernelspec": {
      "name": "python3",
      "display_name": "Python 3"
    },
    "language_info": {
      "name": "python"
    }
  },
  "cells": [
    {
      "cell_type": "markdown",
      "metadata": {
        "id": "view-in-github",
        "colab_type": "text"
      },
      "source": [
        "<a href=\"https://colab.research.google.com/github/betsyninoska/Python/blob/master/Numpy.ipynb\" target=\"_parent\"><img src=\"https://colab.research.google.com/assets/colab-badge.svg\" alt=\"Open In Colab\"/></a>"
      ]
    },
    {
      "cell_type": "code",
      "execution_count": null,
      "metadata": {
        "id": "QbhULGsuoA0H"
      },
      "outputs": [],
      "source": [
        "import numpy as np\n",
        "###import pandas as pd\n",
        "##import matplotlib.pyplot as plt\n",
        "##import seaborn as sns\n",
        "\n",
        "\n",
        "\n",
        "#Diferentes tipos de array\n",
        "# Array de ceros\n",
        "zeros = np.zeros(5)\n",
        "print(\"Array de ceros:\", zeros)\n",
        "\n",
        "# Array de unos\n",
        "unos = np.ones(3)\n",
        "print(\"Array de unos:\", unos)\n",
        "\n",
        "# Array con un rango de valores\n",
        "rango = np.arange(1, 11)\n",
        "print(\"Array con rango:\", rango)\n",
        "\n",
        "# Array con valores espaciados linealmente\n",
        "espaciado = np.linspace(0, 10, 5)\n",
        "print(\"Array espaciado:\", espaciado)\n",
        "\n",
        "# Array con valores aleatorios entre 0 y 1\n",
        "aleatorio = np.random.rand(4)\n",
        "print(\"Array aleatorio:\", aleatorio)\n",
        "\n",
        "# Array con valores aleatorios enteros\n",
        "enteros_aleatorios = np.random.randint(1, 10, size=3)\n",
        "print(\"Array de enteros aleatorios:\", enteros_aleatorios)\n",
        "\n",
        "\n",
        "\n",
        "####\n",
        "\n",
        "\n",
        "\n",
        "\n",
        "# Crear dos arrays de ejemplo\n",
        "arr1 = np.array([1, 2, 3, 4])\n",
        "arr2 = np.array([5, 6, 7, 8])\n",
        "\n",
        "# Suma elemento por elemento\n",
        "suma = arr1 + arr2\n",
        "print(\"Suma:\", suma)\n",
        "\n",
        "# Resta elemento por elemento\n",
        "resta = arr1 - arr2\n",
        "print(\"Resta:\", resta)\n",
        "\n",
        "# Multiplicación elemento por elemento\n",
        "multiplicacion = arr1 * arr2\n",
        "print(\"Multiplicación:\", multiplicacion)\n",
        "\n",
        "# División elemento por elemento\n",
        "division = arr1 / arr2\n",
        "print(\"División:\", division)\n",
        "\n",
        "\n",
        "#Manipulacion de array 3 x3\n",
        "\n",
        "\n",
        "\n",
        "# Crear un array 3x3\n",
        "arr = np.array([[1, 2, 3], [4, 5, 6], [7, 8, 9]])\n",
        "\n",
        "# Acceder a elementos específicos\n",
        "print(\"Elemento en la fila 1, columna 2:\", arr[0, 1])  # Salida: 2\n",
        "\n",
        "# Modificar un elemento\n",
        "arr[1, 2] = 10\n",
        "print(\"Array modificado:\\n\", arr)\n",
        "\n",
        "# Slicing (extraer subconjuntos del array)\n",
        "sub_array = arr[0:2, 1:]  # Filas 0 y 1, columnas desde la 1 en adelante\n",
        "print(\"Sub-array:\\n\", sub_array)\n",
        "\n",
        "# Operaciones matemáticas\n",
        "suma_filas = np.sum(arr, axis=0)  # Suma de cada columna\n",
        "print(\"Suma de filas:\", suma_filas)\n",
        "\n",
        "# Transponer el array\n",
        "arr_transpuesto = arr.T\n",
        "print(\"Array transpuesto:\\n\", arr_transpuesto)\n",
        "\n",
        "\n",
        "\n"
      ]
    },
    {
      "cell_type": "code",
      "source": [
        "# prompt: manipular array 3 por 3\n",
        "\n",
        "import numpy as np\n",
        "\n",
        "# Crear un array 3x3\n",
        "arr = np.array([[1, 2, 3], [4, 5, 6], [7, 8, 9]])\n",
        "\n",
        "# Acceder a elementos específicos\n",
        "print(\"Elemento en la fila 1, columna 2:\", arr[0, 1])  # Salida: 2\n",
        "\n",
        "# Modificar un elemento\n",
        "arr[1, 2] = 10\n",
        "print(\"Array modificado:\\n\", arr)\n",
        "\n",
        "# Slicing (extraer subconjuntos del array)\n",
        "sub_array = arr[0:2, 1:]  # Filas 0 y 1, columnas desde la 1 en adelante\n",
        "print(\"Sub-array:\\n\", sub_array)\n",
        "\n",
        "# Operaciones matemáticas\n",
        "suma_filas = np.sum(arr, axis=0)  # Suma de cada columna\n",
        "print(\"Suma de filas:\", suma_filas)\n",
        "\n",
        "# Transponer el array\n",
        "arr_transpuesto = arr.T\n",
        "print(\"Array transpuesto:\\n\", arr_transpuesto)\n"
      ],
      "metadata": {
        "colab": {
          "base_uri": "https://localhost:8080/"
        },
        "id": "0YkpFfwBoEf1",
        "outputId": "34330265-b834-45b4-e2b8-24a2301c7048"
      },
      "execution_count": null,
      "outputs": [
        {
          "output_type": "stream",
          "name": "stdout",
          "text": [
            "Elemento en la fila 1, columna 2: 2\n",
            "Array modificado:\n",
            " [[ 1  2  3]\n",
            " [ 4  5 10]\n",
            " [ 7  8  9]]\n",
            "Sub-array:\n",
            " [[ 2  3]\n",
            " [ 5 10]]\n",
            "Suma de filas: [12 15 22]\n",
            "Array transpuesto:\n",
            " [[ 1  4  7]\n",
            " [ 2  5  8]\n",
            " [ 3 10  9]]\n"
          ]
        }
      ]
    },
    {
      "cell_type": "code",
      "source": [],
      "metadata": {
        "id": "IEmd7AMzq2lx"
      },
      "execution_count": null,
      "outputs": []
    }
  ]
}